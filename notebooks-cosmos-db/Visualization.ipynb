{
  "cells": [
    {
      "cell_type": "markdown",
      "source": [
        "# Visualizations with Cosmic notebooks\n",
        "In this notebook, we'll run some queries of our data and visualize it using bokeh."
      ],
      "metadata": {}
    },
    {
      "cell_type": "markdown",
      "source": [
        "### Setup\n",
        "\n",
        "- Create a database **RetailDemo** and container **WebsiteData** to hold our data, if they do not already exist.\n",
        "- Import sample data to visualize\n"
      ],
      "metadata": {}
    },
    {
      "cell_type": "code",
      "source": [
        "import azure.cosmos\n",
        "from azure.cosmos.partition_key import PartitionKey\n",
        "\n",
        "database = cosmos_client.create_database_if_not_exists('RetailDemo')\n",
        "print('Database RetailDemo created')\n",
        "\n",
        "container = database.create_container_if_not_exists(id='WebsiteData', partition_key=PartitionKey(path='/CartID'))\n",
        "print('Container WebsiteData created')"
      ],
      "outputs": [],
      "execution_count": null,
      "metadata": {
        "trusted": false,
        "execution": {
          "iopub.status.busy": "2020-07-13T15:36:00.104Z",
          "iopub.execute_input": "2020-07-13T15:36:00.108Z",
          "iopub.status.idle": "2020-07-13T15:36:01.518Z",
          "shell.execute_reply": "2020-07-13T15:36:01.525Z"
        }
      }
    },
    {
      "cell_type": "markdown",
      "source": [
        "Here's a sample document we will import:\n",
        "\n",
        "```\n",
        "{\"CartID\":5399,\n",
        "\"Action\":\"Viewed\",\n",
        "\"Item\":\"Cosmos T-shirt\",\n",
        "\"Price\":350,\n",
        "\"UserName\":\"Chadrick.Larkin87\",\n",
        "\"Country\":\"Iceland\",\n",
        "\"EventDate\":\"2015-06-25T00:00:00\",\n",
        "\"Year\":2015,\"Latitude\":-66.8673,\n",
        "\"Longitude\":-29.8214,\n",
        "\"Address\":\"852 Modesto Loop, Port Ola, Iceland\",\n",
        "\"id\":\"00ffd39c-7e98-4451-9b91-b2bcf2f9a32d\"}\n",
        "```"
      ],
      "metadata": {}
    },
    {
      "cell_type": "markdown",
      "source": [
        "We'll update the throughput of the container to allow for a quicker upload."
      ],
      "metadata": {}
    },
    {
      "cell_type": "code",
      "source": [
        "old_throughput = container.read_offer().offer_throughput\n",
        "new_throughput = container.replace_throughput(1000).offer_throughput\n",
        "print(\"Container WebsiteData's throughput updated from {} RU/s to {} RU/s\".format(old_throughput, new_throughput))"
      ],
      "outputs": [],
      "execution_count": null,
      "metadata": {
        "collapsed": false,
        "inputHidden": false,
        "outputHidden": false,
        "trusted": false,
        "execution": {
          "iopub.status.busy": "2020-07-13T15:36:14.293Z",
          "iopub.execute_input": "2020-07-13T15:36:14.298Z",
          "shell.execute_reply": "2020-07-13T15:36:14.353Z",
          "iopub.status.idle": "2020-07-13T15:36:14.363Z"
        }
      }
    },
    {
      "cell_type": "markdown",
      "source": [
        "We'll use the ``%%upload`` magic function to insert items into the container. This will take a few seconds."
      ],
      "metadata": {}
    },
    {
      "cell_type": "code",
      "source": [
        "%%upload --databaseName RetailDemo --containerName WebsiteData --url https://cosmosnotebooksdata.blob.core.windows.net/notebookdata/websiteData.json"
      ],
      "outputs": [],
      "execution_count": null,
      "metadata": {
        "collapsed": false,
        "inputHidden": false,
        "outputHidden": false,
        "trusted": false,
        "execution": {
          "iopub.status.busy": "2020-07-13T15:36:17.265Z",
          "iopub.status.idle": "2020-07-13T15:36:40.851Z",
          "shell.execute_reply": "2020-07-13T15:36:40.857Z"
        }
      }
    },
    {
      "cell_type": "markdown",
      "source": [
        "We can now lower the throughput of the container."
      ],
      "metadata": {}
    },
    {
      "cell_type": "code",
      "source": [
        "lowered_throughput = container.replace_throughput(400).offer_throughput\n",
        "print(\"Container WebsiteData's throughput lowered from {} RU/s to {} RU/s\".format(new_throughput, lowered_throughput))"
      ],
      "outputs": [],
      "execution_count": null,
      "metadata": {
        "collapsed": false,
        "inputHidden": false,
        "outputHidden": false,
        "trusted": false,
        "execution": {
          "iopub.status.busy": "2020-07-13T15:40:27.619Z",
          "iopub.execute_input": "2020-07-13T15:40:27.622Z",
          "iopub.status.idle": "2020-07-13T15:40:27.725Z",
          "shell.execute_reply": "2020-07-13T15:40:27.731Z"
        }
      }
    },
    {
      "cell_type": "markdown",
      "source": [
        "### Getting our data into a DataFrame\n",
        "\n",
        "We'll use the syntax:   \n",
        "\n",
        "``%%sql --database {database_id} --container {container_id} --output outputDataframeVar\n",
        "{Query text}``\n",
        "\n",
        "We'll run the query ```SELECT c.Action, c.Price as ItemRevenue, c.Country, c.Item FROM c```. The results will be saved into a Pandas dataframe named ```df_cosmos```.\n",
        "\n"
      ],
      "metadata": {}
    },
    {
      "cell_type": "code",
      "source": [
        "%%sql --database RetailDemo --container WebsiteData --output df_cosmos\n",
        "SELECT c.Action, c.Price as ItemRevenue, c.Country, c.Item FROM c"
      ],
      "outputs": [],
      "execution_count": null,
      "metadata": {
        "trusted": false,
        "execution": {
          "iopub.status.busy": "2020-07-13T15:40:30.273Z",
          "iopub.status.idle": "2020-07-13T15:40:30.456Z",
          "shell.execute_reply": "2020-07-13T15:40:30.461Z",
          "iopub.execute_input": "2020-07-13T15:40:30.443Z"
        }
      }
    },
    {
      "cell_type": "code",
      "source": [
        "# See a sample of the result\n",
        "df_cosmos.head(10)"
      ],
      "outputs": [],
      "execution_count": null,
      "metadata": {
        "trusted": false,
        "execution": {
          "iopub.status.busy": "2020-07-13T15:40:31.618Z",
          "iopub.execute_input": "2020-07-13T15:40:31.622Z",
          "shell.execute_reply": "2020-07-13T15:40:31.634Z",
          "iopub.status.idle": "2020-07-13T15:40:31.640Z"
        }
      }
    },
    {
      "cell_type": "markdown",
      "source": [
        "### Built-in visualizations with nteract\n",
        "We'll run some simple group by queries on our data and use the built-in [nteract data explorer](https://blog.nteract.io/designing-the-nteract-data-explorer-f4476d53f897) to create some visualizations. In each cell, we'll set the following options to enable the nteract data explorer:\n",
        "\n",
        "``pd.options.display.html.table_schema = True``\n",
        "\n",
        "``pd.options.display.max_rows = None``"
      ],
      "metadata": {}
    },
    {
      "cell_type": "markdown",
      "source": [
        "#### Sum revenue by country\n",
        "\n",
        "With the built-in table visualization, we can use filters to further explore our data. For example, we can further filter our data to countries with revenue greater than $1500.\n",
        "\n",
        "<img src=\"https://cosmosnotebooksdata.blob.core.windows.net/notebookdata/nteract-table-filters.png\" alt=\"Built-in nteract \" width=\"100%\"/>"
      ],
      "metadata": {}
    },
    {
      "cell_type": "code",
      "source": [
        "import pandas as pd\n",
        "pd.options.display.html.table_schema = True\n",
        "pd.options.display.max_rows = None\n",
        "\n",
        "df_revenue = df_cosmos.groupby(\"Country\").sum().reset_index()\n",
        "display(df_revenue)"
      ],
      "outputs": [],
      "execution_count": null,
      "metadata": {
        "trusted": false,
        "execution": {
          "iopub.status.busy": "2020-07-13T15:40:36.795Z",
          "iopub.execute_input": "2020-07-13T15:40:36.801Z",
          "iopub.status.idle": "2020-07-13T15:40:36.909Z",
          "shell.execute_reply": "2020-07-13T15:40:36.919Z"
        }
      }
    },
    {
      "cell_type": "markdown",
      "source": [
        "#### Analyze top 10 popular purchased items\n",
        "\n",
        "We can also use other built-in visualizations, including bar charts, scatterplots, and more. Here, we'll analyze the top 10 popular purchased items and graph them using a bar chart. \n",
        "\n",
        "<img src=\"https://cosmosnotebooksdata.blob.core.windows.net/notebookdata/nteract-built-in-chart.png\" alt=\"Built-in nteract \" width=\"100%\"/>\n",
        "\n"
      ],
      "metadata": {}
    },
    {
      "cell_type": "code",
      "source": [
        "import pandas as pd\n",
        "pd.options.display.html.table_schema = True\n",
        "pd.options.display.max_rows = None\n",
        "\n",
        "## What are the top 10 purchased items?\n",
        "pd.DataFrame(df_cosmos[df_cosmos['Action']=='Purchased'].groupby('Item').size().sort_values(ascending=False).head(10), columns=['Count'])\n"
      ],
      "outputs": [],
      "execution_count": null,
      "metadata": {
        "trusted": false,
        "execution": {
          "iopub.status.busy": "2020-07-13T15:40:37.982Z",
          "iopub.execute_input": "2020-07-13T15:40:37.986Z",
          "iopub.status.idle": "2020-07-13T15:40:38.020Z",
          "shell.execute_reply": "2020-07-13T15:40:38.030Z"
        }
      }
    },
    {
      "cell_type": "markdown",
      "source": [
        "## Custom visualization #1: Sales revenue by country on a world map\n",
        "\n",
        "In addition to using the built-in nteract data explorer, we can also create custom visualizations.\n",
        "\n",
        "First, we'll take our data on revenue from our Cosmos container and visualize it using bokeh. Credit to https://towardsdatascience.com/a-complete-guide-to-an-interactive-geographical-map-using-python-f4c5197e23e0 for inspiration."
      ],
      "metadata": {}
    },
    {
      "cell_type": "code",
      "source": [
        "import sys\n",
        "!{sys.executable} -m pip install bokeh==1.4.0 --user"
      ],
      "outputs": [],
      "execution_count": null,
      "metadata": {
        "trusted": false,
        "execution": {
          "iopub.status.busy": "2020-07-13T15:40:39.438Z",
          "iopub.execute_input": "2020-07-13T15:40:39.441Z",
          "shell.execute_reply": "2020-07-13T15:40:49.037Z",
          "iopub.status.idle": "2020-07-13T15:40:49.067Z"
        }
      }
    },
    {
      "cell_type": "markdown",
      "source": [
        "### Prepare our data to be plotted"
      ],
      "metadata": {}
    },
    {
      "cell_type": "code",
      "source": [
        "import urllib.request, json \n",
        "import geopandas as gpd\n",
        "\n",
        "# Load country information for mapping\n",
        "countries = gpd.read_file(\"https://cosmosnotebooksdata.blob.core.windows.net/notebookdata/countries.json\")\n",
        "\n",
        "# Merge the countries dataframe with our data in Azure Cosmos DB, joining on country code\n",
        "df_merged = countries.merge(df_revenue, left_on = 'admin', right_on = 'Country', how='left')\n",
        "\n",
        "# Convert to GeoJSON so bokeh can plot it\n",
        "merged_json = json.loads(df_merged.to_json())\n",
        "json_data = json.dumps(merged_json)"
      ],
      "outputs": [],
      "execution_count": null,
      "metadata": {
        "trusted": false,
        "execution": {
          "iopub.status.busy": "2020-07-13T15:41:08.922Z",
          "iopub.execute_input": "2020-07-13T15:41:08.928Z",
          "iopub.status.idle": "2020-07-13T15:41:09.857Z",
          "shell.execute_reply": "2020-07-13T15:41:09.917Z"
        }
      }
    },
    {
      "cell_type": "markdown",
      "source": [
        "### Plot the sales revenue on a world map\n",
        "This may take a few seconds..."
      ],
      "metadata": {}
    },
    {
      "cell_type": "code",
      "source": [
        "from bokeh.io import output_notebook, show\n",
        "from bokeh.plotting import figure\n",
        "from bokeh.models import GeoJSONDataSource, LinearColorMapper, ColorBar\n",
        "from bokeh.palettes import brewer\n",
        "\n",
        "#Input GeoJSON source that contains features for plotting.\n",
        "geosource = GeoJSONDataSource(geojson = json_data)\n",
        "\n",
        "#Choose our choropleth color palette: https://bokeh.pydata.org/en/latest/docs/reference/palettes.html\n",
        "palette = brewer['YlGn'][8]\n",
        "\n",
        "#Reverse color order so that dark green is highest revenue\n",
        "palette = palette[::-1]\n",
        "\n",
        "#Instantiate LinearColorMapper that linearly maps numbers in a range, into a sequence of colors.\n",
        "color_mapper = LinearColorMapper(palette = palette, low = 0, high = 1000)\n",
        "\n",
        "#Define custom tick labels for color bar.\n",
        "tick_labels = {'0': '$0', '250': '$250', '500':'$500', '750':'$750', '1000':'$1000', '1250':'$1250', '1500':'$1500','1750':'$1750', '2000': '>$2000'}\n",
        "\n",
        "#Create color bar. \n",
        "color_bar = ColorBar(color_mapper=color_mapper, label_standoff=8,width = 500, height = 20,\n",
        "border_line_color=None,location = (0,0), orientation = 'horizontal', major_label_overrides = tick_labels)\n",
        "\n",
        "#Create figure object.\n",
        "p = figure(title = 'Sales revenue by country', plot_height = 600 , plot_width = 1150, toolbar_location = None)\n",
        "p.xgrid.grid_line_color = None\n",
        "p.ygrid.grid_line_color = None\n",
        "\n",
        "#Add patch renderer to figure. \n",
        "p.patches('xs','ys', source = geosource,fill_color = {'field' :'ItemRevenue', 'transform' : color_mapper},\n",
        "          line_color = 'black', line_width = 0.25, fill_alpha = 1)\n",
        "\n",
        "#Specify figure layout.\n",
        "p.add_layout(color_bar, 'below')\n",
        "\n",
        "#Display figure inline in Jupyter Notebook.\n",
        "output_notebook()\n",
        "\n",
        "#Display figure.\n",
        "show(p)"
      ],
      "outputs": [],
      "execution_count": null,
      "metadata": {
        "trusted": false,
        "execution": {
          "iopub.status.busy": "2020-07-13T15:41:12.912Z",
          "iopub.execute_input": "2020-07-13T15:41:12.918Z",
          "iopub.status.idle": "2020-07-13T15:41:13.888Z",
          "shell.execute_reply": "2020-07-13T15:41:13.902Z"
        }
      }
    },
    {
      "cell_type": "markdown",
      "source": [
        "## Custom visualization #2: Conversion rate of Viewed -> Added to cart -> Purchased by item\n",
        "\n",
        "In our WebsiteData container, we have a record of users who viewed an item, added to their cart, and purchased the item. We can visualize the conversion rate for each item. Credit to: https://bokeh.pydata.org/en/latest/docs/user_guide/categorical.html for inspiration."
      ],
      "metadata": {}
    },
    {
      "cell_type": "markdown",
      "source": [
        "### Plot our data"
      ],
      "metadata": {}
    },
    {
      "cell_type": "code",
      "source": [
        "from bokeh.io import show, output_notebook\n",
        "\n",
        "from bokeh.plotting import figure\n",
        "from bokeh.palettes import Spectral3\n",
        "from bokeh.transform import factor_cmap\n",
        "from bokeh.models import ColumnDataSource, FactorRange\n",
        "\n",
        "\n",
        "# Get the top 10 items as an array\n",
        "top_10_items = df_cosmos[df_cosmos['Action']=='Purchased'].groupby('Item').size().sort_values(ascending=False)[:10].index.values.tolist()\n",
        "\n",
        "# Filter our data to only these 10 items\n",
        "df_top10 = df_cosmos[df_cosmos['Item'].isin(top_10_items)]\n",
        "\n",
        "# Group by Item and Action, sorting by event count\n",
        "df_top10_sorted = df_top10.groupby(['Item', 'Action']).count().rename(columns={'Country':'ResultCount'}, inplace=False).reset_index().sort_values(['Item', 'ResultCount'], ascending = False).set_index(['Item', 'Action'])\n",
        "\n",
        "# Get sorted X-axis values - this way, we can display the funnel of view -> add -> purchase\n",
        "x_axis_values = df_top10_sorted.index.values.tolist()\n",
        "\n",
        "group = df_top10_sorted.groupby(['Item', 'Action'])\n",
        "\n",
        "# Specifiy colors for X axis\n",
        "index_cmap = factor_cmap('Item_Action', palette=Spectral3, factors=sorted(df_top10.Action.unique()), start=1, end=2)\n",
        "\n",
        "# Create the plot\n",
        "\n",
        "p = figure(plot_width=1200, plot_height=500, title=\"Conversion rate of items from View -> Add to cart -> Purchase\", x_range=FactorRange(*x_axis_values), toolbar_location=None, tooltips=[(\"Number of events\", \"@ResultCount_max\"), (\"Item, Action\", \"@Item_Action\")])\n",
        "\n",
        "p.vbar(x='Item_Action', top='ItemRevenue_max', width=1, source=group,\n",
        "       line_color=\"white\", fill_color=index_cmap, )\n",
        "\n",
        "#Configure how the plot looks\n",
        "p.y_range.start = 0\n",
        "p.x_range.range_padding = 0.05\n",
        "p.xgrid.grid_line_color = None\n",
        "p.xaxis.major_label_orientation = 1.2\n",
        "p.outline_line_color = \"black\"\n",
        "p.xaxis.axis_label = \"Item\"\n",
        "p.yaxis.axis_label = \"Count\"\n",
        "\n",
        "#Display figure inline in Jupyter Notebook.\n",
        "output_notebook()\n",
        "\n",
        "#Display figure.\n",
        "show(p)\n"
      ],
      "outputs": [],
      "execution_count": null,
      "metadata": {
        "trusted": false,
        "execution": {
          "iopub.status.busy": "2020-07-13T15:41:16.887Z",
          "iopub.execute_input": "2020-07-13T15:41:16.893Z",
          "iopub.status.idle": "2020-07-13T15:41:17.126Z",
          "shell.execute_reply": "2020-07-13T15:41:17.138Z"
        }
      }
    }
  ],
  "metadata": {
    "kernelspec": {
      "display_name": "Python 3",
      "language": "python",
      "name": "python3",
      "displayName": "Python 3"
    },
    "language_info": {
      "name": "python",
      "version": "3.7",
      "mimetype": "application/json",
      "file_extension": "ipynb"
    },
    "nteract": {
      "version": "dataExplorer 1.0"
    }
  },
  "nbformat": 4,
  "nbformat_minor": 2
}